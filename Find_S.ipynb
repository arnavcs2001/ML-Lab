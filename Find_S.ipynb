{
  "nbformat": 4,
  "nbformat_minor": 0,
  "metadata": {
    "colab": {
      "provenance": []
    },
    "kernelspec": {
      "name": "python3",
      "display_name": "Python 3"
    },
    "language_info": {
      "name": "python"
    }
  },
  "cells": [
    {
      "cell_type": "code",
      "execution_count": 8,
      "metadata": {
        "id": "5d2pYL8oyF90"
      },
      "outputs": [],
      "source": [
        "import numpy as np\n",
        "import pandas as pd\n",
        "import csv     "
      ]
    },
    {
      "cell_type": "code",
      "source": [
        "with open('wsce.csv')  as csvFile:\n",
        "        examples = [tuple(line) for line in csv.reader(csvFile)]\n",
        "\n",
        "#examples = [('sunny', 'warm', 'normal', 'strong', 'warm', 'same',True),\n",
        "# ('sunny', 'warm', 'high', 'strong', 'warm', 'same',True),\n",
        "# ('rainy', 'cold', 'high', 'strong', 'warm', 'change',False),\n",
        "# ('sunny', 'warm', 'high', 'strong', 'cool', 'change',True)]\n",
        "\n",
        "examples"
      ],
      "metadata": {
        "colab": {
          "base_uri": "https://localhost:8080/"
        },
        "id": "v3IJfYRFzDsI",
        "outputId": "dfefd80d-a621-486f-d4f5-1f80b7c855fe"
      },
      "execution_count": 9,
      "outputs": [
        {
          "output_type": "execute_result",
          "data": {
            "text/plain": [
              "[('Sunny', 'Warm', 'Normal', 'Strong', 'Warm', 'Same', 'Y'),\n",
              " ('Sunny', 'Warm', 'High', 'Strong', 'Warm', 'Same', 'Y'),\n",
              " ('Rainy', 'Cold', 'High', 'Strong', 'Warm', 'Change', 'N'),\n",
              " ('Sunny', 'Warm', 'High', 'Strong', 'Cool', 'Change', 'Y')]"
            ]
          },
          "metadata": {},
          "execution_count": 9
        }
      ]
    },
    {
      "cell_type": "code",
      "source": [
        "\n",
        "data = pd.read_csv(\"wsce.csv\")"
      ],
      "metadata": {
        "id": "F1_lwJTT0UNX"
      },
      "execution_count": 12,
      "outputs": []
    },
    {
      "cell_type": "code",
      "source": [
        "d = np.array(data)[:,:-1]\n",
        "print(\"n The attributes are: \",d)\n",
        "\n",
        "target = np.array(data)[:,-1]\n",
        "print(\"n The target is: \",target)"
      ],
      "metadata": {
        "colab": {
          "base_uri": "https://localhost:8080/"
        },
        "id": "dk9mPOjfzzng",
        "outputId": "fb5cd6c6-6e8e-4cbf-9165-cd78ee513a4b"
      },
      "execution_count": 13,
      "outputs": [
        {
          "output_type": "stream",
          "name": "stdout",
          "text": [
            "n The attributes are:  [['Sunny' 'Warm' 'High' 'Strong' 'Warm' 'Same']\n",
            " ['Rainy' 'Cold' 'High' 'Strong' 'Warm' 'Change']\n",
            " ['Sunny' 'Warm' 'High' 'Strong' 'Cool' 'Change']]\n",
            "n The target is:  ['Y' 'N' 'Y']\n"
          ]
        }
      ]
    },
    {
      "cell_type": "code",
      "source": [
        "def train(d,target):\n",
        "    for i, val in enumerate(target):\n",
        "        if val == \"Y\":\n",
        "            specific_hypothesis = d[i].copy()\n",
        "            break\n",
        "             \n",
        "    for i, val in enumerate(d):\n",
        "        if target[i] == \"Y\":\n",
        "            for x in range(len(specific_hypothesis)):\n",
        "                if val[x] != specific_hypothesis[x]:\n",
        "                    specific_hypothesis[x] = '?'\n",
        "                else:\n",
        "                    pass\n",
        "                 \n",
        "    return specific_hypothesis\n",
        "\n",
        "print(\"n The final hypothesis is:\",train(d,target))"
      ],
      "metadata": {
        "colab": {
          "base_uri": "https://localhost:8080/"
        },
        "id": "RozT5AXw0gWA",
        "outputId": "0dc4c0ac-3350-4e20-9567-a08b1138fc06"
      },
      "execution_count": 16,
      "outputs": [
        {
          "output_type": "stream",
          "name": "stdout",
          "text": [
            "n The final hypothesis is: ['Sunny' 'Warm' 'High' 'Strong' '?' '?']\n"
          ]
        }
      ]
    }
  ]
}