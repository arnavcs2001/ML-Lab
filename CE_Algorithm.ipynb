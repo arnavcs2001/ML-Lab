{
  "nbformat": 4,
  "nbformat_minor": 0,
  "metadata": {
    "colab": {
      "provenance": []
    },
    "kernelspec": {
      "name": "python3",
      "display_name": "Python 3"
    },
    "language_info": {
      "name": "python"
    }
  },
  "cells": [
    {
      "cell_type": "code",
      "execution_count": 2,
      "metadata": {
        "id": "jNFDdmmVkO_M"
      },
      "outputs": [],
      "source": [
        "import random\n",
        "import csv\n",
        "import warnings\n",
        "warnings.filterwarnings('ignore')\n",
        "from matplotlib.patches import Rectangle\n",
        "from IPython.html.widgets import interact, IntSlider"
      ]
    },
    {
      "cell_type": "code",
      "source": [
        "def g_0(n):\n",
        "    return (\"?\",)*n\n",
        "\n",
        "def s_0(n):\n",
        "    return ('0',)*n"
      ],
      "metadata": {
        "id": "nk7jyuwhl_E5"
      },
      "execution_count": 3,
      "outputs": []
    },
    {
      "cell_type": "code",
      "source": [
        "def more_general(h1, h2):\n",
        "    more_general_parts = []\n",
        "    for x, y in zip(h1, h2):\n",
        "        mg = x == \"?\" or (x != \"0\" and (x == y or y == \"0\"))\n",
        "        more_general_parts.append(mg)\n",
        "    return all(more_general_parts)\n",
        "\n",
        "l1 = [1, 2, 3]\n",
        "l2 = [3, 4, 5]\n",
        "\n",
        "list(zip(l1, l2))"
      ],
      "metadata": {
        "colab": {
          "base_uri": "https://localhost:8080/"
        },
        "id": "32nHqlbBl_a4",
        "outputId": "6ea6d900-b808-4315-9473-0bfc254fb4b7"
      },
      "execution_count": 4,
      "outputs": [
        {
          "output_type": "execute_result",
          "data": {
            "text/plain": [
              "[(1, 3), (2, 4), (3, 5)]"
            ]
          },
          "metadata": {},
          "execution_count": 4
        }
      ]
    },
    {
      "cell_type": "code",
      "source": [
        "# min_generalizations\n",
        "def fulfills(example, hypothesis):\n",
        "    ### the implementation is the same as for hypotheses:\n",
        "    return more_general(hypothesis, example)\n",
        "\n",
        "def min_generalizations(h, x):\n",
        "    h_new = list(h)\n",
        "    for i in range(len(h)):\n",
        "        if not fulfills(x[i:i+1], h[i:i+1]):\n",
        "            h_new[i] = '?' if h[i] != '0' else x[i]\n",
        "    return [tuple(h_new)]"
      ],
      "metadata": {
        "id": "wM2g8Hssm0QZ"
      },
      "execution_count": 5,
      "outputs": []
    },
    {
      "cell_type": "code",
      "source": [
        "min_generalizations(h=('0', '0'  , 'sunny'), \n",
        "                    x=('rainy', 'windy', 'cloudy'))"
      ],
      "metadata": {
        "colab": {
          "base_uri": "https://localhost:8080/"
        },
        "id": "ZaiNzaVpm7Wo",
        "outputId": "b85f1cf6-5da2-4a32-d4aa-bb9663f1bb12"
      },
      "execution_count": 6,
      "outputs": [
        {
          "output_type": "execute_result",
          "data": {
            "text/plain": [
              "[('rainy', 'windy', '?')]"
            ]
          },
          "metadata": {},
          "execution_count": 6
        }
      ]
    },
    {
      "cell_type": "code",
      "source": [
        "def min_specializations(h, domains, x):\n",
        "    results = []\n",
        "    for i in range(len(h)):\n",
        "        if h[i] == \"?\":\n",
        "            for val in domains[i]:\n",
        "                if x[i] != val:\n",
        "                    h_new = h[:i] + (val,) + h[i+1:]\n",
        "                    results.append(h_new)\n",
        "        elif h[i] != \"0\":\n",
        "            h_new = h[:i] + ('0',) + h[i+1:]\n",
        "            results.append(h_new)\n",
        "    return results"
      ],
      "metadata": {
        "id": "YIq4_5M6nHrJ"
      },
      "execution_count": 7,
      "outputs": []
    },
    {
      "cell_type": "code",
      "source": [
        "min_specializations(h=('?', 'x',), \n",
        "                    domains=[['a', 'b', 'c'], ['x', 'y']], \n",
        "                    x=('b', 'x'))"
      ],
      "metadata": {
        "colab": {
          "base_uri": "https://localhost:8080/"
        },
        "id": "pfefmttcnLOB",
        "outputId": "4f913333-69bd-4a4b-c5c3-7f87d35d9046"
      },
      "execution_count": 8,
      "outputs": [
        {
          "output_type": "execute_result",
          "data": {
            "text/plain": [
              "[('a', 'x'), ('c', 'x'), ('?', '0')]"
            ]
          },
          "metadata": {},
          "execution_count": 8
        }
      ]
    },
    {
      "cell_type": "code",
      "source": [
        "with open('wsce.csv')  as csvFile:\n",
        "        examples = [tuple(line) for line in csv.reader(csvFile)]\n",
        "\n",
        "#examples = [('sunny', 'warm', 'normal', 'strong', 'warm', 'same',True),\n",
        "# ('sunny', 'warm', 'high', 'strong', 'warm', 'same',True),\n",
        "# ('rainy', 'cold', 'high', 'strong', 'warm', 'change',False),\n",
        "# ('sunny', 'warm', 'high', 'strong', 'cool', 'change',True)]\n",
        "\n",
        "examples"
      ],
      "metadata": {
        "colab": {
          "base_uri": "https://localhost:8080/"
        },
        "id": "qEzgvc4vnR3Q",
        "outputId": "86256492-f218-40cb-95a8-42767d8f69dd"
      },
      "execution_count": 10,
      "outputs": [
        {
          "output_type": "execute_result",
          "data": {
            "text/plain": [
              "[('Sunny', 'Warm', 'Normal', 'Strong', 'Warm', 'Same', 'Y'),\n",
              " ('Sunny', 'Warm', 'High', 'Strong', 'Warm', 'Same', 'Y'),\n",
              " ('Rainy', 'Cold', 'High', 'Strong', 'Warm', 'Change', 'N'),\n",
              " ('Sunny', 'Warm', 'High', 'Strong', 'Cool', 'Change', 'Y')]"
            ]
          },
          "metadata": {},
          "execution_count": 10
        }
      ]
    },
    {
      "cell_type": "code",
      "source": [
        "def get_domains(examples):\n",
        "    d = [set() for i in examples[0]]\n",
        "    for x in examples:\n",
        "        for i, xi in enumerate(x):\n",
        "            d[i].add(xi)\n",
        "    return [list(sorted(x)) for x in d]\n",
        "\n",
        "get_domains(examples)"
      ],
      "metadata": {
        "colab": {
          "base_uri": "https://localhost:8080/"
        },
        "id": "jeIWh5uRpLEh",
        "outputId": "317937f2-263d-4ac4-924e-5f98acf730de"
      },
      "execution_count": 11,
      "outputs": [
        {
          "output_type": "execute_result",
          "data": {
            "text/plain": [
              "[['Rainy', 'Sunny'],\n",
              " ['Cold', 'Warm'],\n",
              " ['High', 'Normal'],\n",
              " ['Strong'],\n",
              " ['Cool', 'Warm'],\n",
              " ['Change', 'Same'],\n",
              " ['N', 'Y']]"
            ]
          },
          "metadata": {},
          "execution_count": 11
        }
      ]
    },
    {
      "cell_type": "code",
      "source": [
        "def candidate_elimination(examples):\n",
        "    domains = get_domains(examples)[:-1]\n",
        "    \n",
        "    G = set([g_0(len(domains))])\n",
        "    S = set([s_0(len(domains))])\n",
        "    i=0\n",
        "    #print(\"\\n G[{0}]:\".format(i),G)\n",
        "    #print(\"\\n S[{0}]:\".format(i),S)\n",
        "    for xcx in examples:\n",
        "        i=i+1\n",
        "        x, cx = xcx[:-1], xcx[-1]  # Splitting data into attributes and decisions\n",
        "        if cx=='Y': # x is positive example\n",
        "            G = {g for g in G if fulfills(x, g)}\n",
        "            S = generalize_S(x, G, S)\n",
        "        else: # x is negative example\n",
        "            S = {s for s in S if not fulfills(x, s)}\n",
        "            G = specialize_G(x, domains, G, S)\n",
        "        #print(\"\\n G[{0}]:\".format(i),G)\n",
        "        #print(\"\\n S[{0}]:\".format(i),S)\n",
        "    return G,S"
      ],
      "metadata": {
        "id": "RbMQyt8vpN4g"
      },
      "execution_count": 12,
      "outputs": []
    },
    {
      "cell_type": "code",
      "source": [
        "def generalize_S(x, G, S):\n",
        "    S_prev = list(S)\n",
        "    for s in S_prev:\n",
        "        if s not in S:\n",
        "            continue\n",
        "        if not fulfills(x, s):\n",
        "            S.remove(s)\n",
        "            Splus = min_generalizations(s, x)\n",
        "            ## keep only generalizations that have a counterpart in G\n",
        "            S.update([h for h in Splus if any([more_general(g,h) \n",
        "                                               for g in G])])\n",
        "            ## remove hypotheses less specific than any other in S\n",
        "            S.difference_update([h for h in S if \n",
        "                                 any([more_general(h, h1) \n",
        "                                      for h1 in S if h != h1])])\n",
        "    return S"
      ],
      "metadata": {
        "id": "c9ftXDdxpgIB"
      },
      "execution_count": 13,
      "outputs": []
    },
    {
      "cell_type": "code",
      "source": [
        "def specialize_G(x, domains, G, S):\n",
        "    G_prev = list(G)\n",
        "    for g in G_prev:\n",
        "        if g not in G:\n",
        "            continue\n",
        "        if fulfills(x, g):\n",
        "            G.remove(g)\n",
        "            Gminus = min_specializations(g, domains, x)\n",
        "            ## keep only specializations that have a conuterpart in S\n",
        "            G.update([h for h in Gminus if any([more_general(h, s)\n",
        "                                                for s in S])])\n",
        "            ## remove hypotheses less general than any other in G\n",
        "            G.difference_update([h for h in G if \n",
        "                                 any([more_general(g1, h) \n",
        "                                      for g1 in G if h != g1])])\n",
        "    return G"
      ],
      "metadata": {
        "id": "VtQlKUrtpjzw"
      },
      "execution_count": 14,
      "outputs": []
    },
    {
      "cell_type": "code",
      "source": [
        "G, S = candidate_elimination(examples)\n",
        "print(\"G[4] =\", G)\n",
        "print(\"S[4] =\", S)"
      ],
      "metadata": {
        "colab": {
          "base_uri": "https://localhost:8080/"
        },
        "id": "uR4uoMIOpqww",
        "outputId": "841bc808-9b14-43f9-c1d1-0d0a8c2d74f0"
      },
      "execution_count": 15,
      "outputs": [
        {
          "output_type": "stream",
          "name": "stdout",
          "text": [
            "G[4] = {('?', 'Warm', '?', '?', '?', '?'), ('Sunny', '?', '?', '?', '?', '?')}\n",
            "S[4] = {('Sunny', 'Warm', '?', 'Strong', '?', '?')}\n"
          ]
        }
      ]
    },
    {
      "cell_type": "code",
      "source": [
        "%pylab inline"
      ],
      "metadata": {
        "colab": {
          "base_uri": "https://localhost:8080/"
        },
        "id": "OLWRHsDEqC3Q",
        "outputId": "e7191420-4fb7-4847-aa11-a3eb9fdd73a6"
      },
      "execution_count": 16,
      "outputs": [
        {
          "output_type": "stream",
          "name": "stdout",
          "text": [
            "Populating the interactive namespace from numpy and matplotlib\n"
          ]
        }
      ]
    },
    {
      "cell_type": "code",
      "source": [
        "class HypothesisNode(object):\n",
        "    def __init__(self, h, level=0, parents=None):\n",
        "        self.h = h\n",
        "        self.level = level\n",
        "        if parents is None:\n",
        "            parents = []\n",
        "        self.parents = set(parents)\n",
        "    def __repr__(self):\n",
        "        return \"HypothesisNode({}, {}, {})\".format(self.h, self.level, self.parents)\n",
        "\n",
        "    \n",
        "def build_hypothesis_space(G, S):\n",
        "    levels = [[HypothesisNode(x, 0) for x in G]]\n",
        "    curlevel = 1\n",
        "\n",
        "    def next_level(h, S):\n",
        "        for s in S:\n",
        "            for i in range(len(h)):\n",
        "                if h[i] == '?' and s[i] != '?':\n",
        "                    yield h[:i] + (s[i],) + h[i+1:]\n",
        "\n",
        "    nextLvl = {}\n",
        "    while True:\n",
        "        for n in levels[-1]:\n",
        "            for hyp in next_level(n.h, S):\n",
        "                if hyp in nextLvl:\n",
        "                    nextLvl[hyp].parents.add(n)\n",
        "                else:\n",
        "                    nextLvl[hyp] = HypothesisNode(hyp, curlevel, [n])\n",
        "        if not nextLvl:\n",
        "            break\n",
        "        levels.append(list(nextLvl.values()))\n",
        "        curlevel += 1\n",
        "        nextLvl = {}\n",
        "    return levels"
      ],
      "metadata": {
        "id": "H_1XScgRqjRo"
      },
      "execution_count": 17,
      "outputs": []
    },
    {
      "cell_type": "code",
      "source": [
        "def draw_hypothesis_space(G, S):\n",
        "    import networkx as nx\n",
        "    \n",
        "    levels = build_hypothesis_space(G, S)\n",
        "\n",
        "    g = nx.Graph()\n",
        "\n",
        "    for nodes in levels:\n",
        "        for n in nodes:\n",
        "            for p in n.parents:\n",
        "                g.add_edge(n.h, p.h)\n",
        "\n",
        "    pos = {}\n",
        "    ymin = 0.1\n",
        "    ymax = 0.9\n",
        "\n",
        "    for nodes, y in [(levels[0], ymin), (levels[-1], ymax)]:\n",
        "        xvals = np.linspace(0, 1, len(nodes))\n",
        "        for x, n in zip(xvals, nodes):\n",
        "            pos[n.h] = [x, y]\n",
        "\n",
        "    pos = nx.layout.fruchterman_reingold_layout(g, pos=pos, fixed=pos.keys())\n",
        "\n",
        "    nx.draw_networkx_edges(g, pos=pos, alpha=0.25)\n",
        "    nx.draw_networkx_labels(g, pos=pos)\n",
        "\n",
        "\n",
        "    plt.box(True)\n",
        "    plt.xticks([])\n",
        "    plt.yticks([])\n",
        "    plt.xlim(-1, 2)\n",
        "    gcf().set_size_inches((10, 10))\n",
        "    plt.show()"
      ],
      "metadata": {
        "id": "vIuZ7FoHqlp4"
      },
      "execution_count": 18,
      "outputs": []
    },
    {
      "cell_type": "code",
      "source": [
        "print()\n",
        "draw_hypothesis_space(G, S)"
      ],
      "metadata": {
        "colab": {
          "base_uri": "https://localhost:8080/",
          "height": 824
        },
        "id": "njg-13chqr-p",
        "outputId": "14a64a73-78d5-44ba-b60f-406de33fc67a"
      },
      "execution_count": 19,
      "outputs": [
        {
          "output_type": "stream",
          "name": "stdout",
          "text": [
            "\n"
          ]
        },
        {
          "output_type": "display_data",
          "data": {
            "text/plain": [
              "<Figure size 1000x1000 with 1 Axes>"
            ],
            "image/png": "[encoded data removed]"
          },
          "metadata": {}
        }
      ]
    }
  ]
}